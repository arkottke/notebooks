{
 "cells": [
  {
   "cell_type": "markdown",
   "metadata": {},
   "source": [
    "# Bokeh Selector Example\n",
    "\n",
    "This example demostrates how to use Bokeh to interactively select data from a chart within a Jupyter Notebook.\n",
    "\n",
    "Load the required libraries. [Bokeh](http://bokeh.pydata.org/en/latest/docs/user_guide.html) is used to provide interactive plotting. The `output_notebook()` function is used to display the plots inline within a Jupyter notebook."
   ]
  },
  {
   "cell_type": "code",
   "execution_count": 41,
   "metadata": {
    "collapsed": false
   },
   "outputs": [
    {
     "data": {
      "text/html": [
       "\n",
       "    <div class=\"bk-root\">\n",
       "        <a href=\"http://bokeh.pydata.org\" target=\"_blank\" class=\"bk-logo bk-logo-small bk-logo-notebook\"></a>\n",
       "        <span id=\"887a3518-c172-4388-baa2-13e911abf888\">Loading BokehJS ...</span>\n",
       "    </div>"
      ]
     },
     "metadata": {},
     "output_type": "display_data"
    },
    {
     "data": {
      "application/javascript": [
       "\n",
       "(function(global) {\n",
       "  function now() {\n",
       "    return new Date();\n",
       "  }\n",
       "\n",
       "  var force = \"1\";\n",
       "\n",
       "  if (typeof (window._bokeh_onload_callbacks) === \"undefined\" || force !== \"\") {\n",
       "    window._bokeh_onload_callbacks = [];\n",
       "    window._bokeh_is_loading = undefined;\n",
       "  }\n",
       "\n",
       "\n",
       "  \n",
       "  if (typeof (window._bokeh_timeout) === \"undefined\" || force !== \"\") {\n",
       "    window._bokeh_timeout = Date.now() + 5000;\n",
       "    window._bokeh_failed_load = false;\n",
       "  }\n",
       "\n",
       "  var NB_LOAD_WARNING = {'data': {'text/html':\n",
       "     \"<div style='background-color: #fdd'>\\n\"+\n",
       "     \"<p>\\n\"+\n",
       "     \"BokehJS does not appear to have successfully loaded. If loading BokehJS from CDN, this \\n\"+\n",
       "     \"may be due to a slow or bad network connection. Possible fixes:\\n\"+\n",
       "     \"</p>\\n\"+\n",
       "     \"<ul>\\n\"+\n",
       "     \"<li>re-rerun `output_notebook()` to attempt to load from CDN again, or</li>\\n\"+\n",
       "     \"<li>use INLINE resources instead, as so:</li>\\n\"+\n",
       "     \"</ul>\\n\"+\n",
       "     \"<code>\\n\"+\n",
       "     \"from bokeh.resources import INLINE\\n\"+\n",
       "     \"output_notebook(resources=INLINE)\\n\"+\n",
       "     \"</code>\\n\"+\n",
       "     \"</div>\"}};\n",
       "\n",
       "  function display_loaded() {\n",
       "    if (window.Bokeh !== undefined) {\n",
       "      Bokeh.$(\"#887a3518-c172-4388-baa2-13e911abf888\").text(\"BokehJS successfully loaded.\");\n",
       "    } else if (Date.now() < window._bokeh_timeout) {\n",
       "      setTimeout(display_loaded, 100)\n",
       "    }\n",
       "  }\n",
       "\n",
       "  function run_callbacks() {\n",
       "    window._bokeh_onload_callbacks.forEach(function(callback) { callback() });\n",
       "    delete window._bokeh_onload_callbacks\n",
       "    console.info(\"Bokeh: all callbacks have finished\");\n",
       "  }\n",
       "\n",
       "  function load_libs(js_urls, callback) {\n",
       "    window._bokeh_onload_callbacks.push(callback);\n",
       "    if (window._bokeh_is_loading > 0) {\n",
       "      console.log(\"Bokeh: BokehJS is being loaded, scheduling callback at\", now());\n",
       "      return null;\n",
       "    }\n",
       "    if (js_urls == null || js_urls.length === 0) {\n",
       "      run_callbacks();\n",
       "      return null;\n",
       "    }\n",
       "    console.log(\"Bokeh: BokehJS not loaded, scheduling load and callback at\", now());\n",
       "    window._bokeh_is_loading = js_urls.length;\n",
       "    for (var i = 0; i < js_urls.length; i++) {\n",
       "      var url = js_urls[i];\n",
       "      var s = document.createElement('script');\n",
       "      s.src = url;\n",
       "      s.async = false;\n",
       "      s.onreadystatechange = s.onload = function() {\n",
       "        window._bokeh_is_loading--;\n",
       "        if (window._bokeh_is_loading === 0) {\n",
       "          console.log(\"Bokeh: all BokehJS libraries loaded\");\n",
       "          run_callbacks()\n",
       "        }\n",
       "      };\n",
       "      s.onerror = function() {\n",
       "        console.warn(\"failed to load library \" + url);\n",
       "      };\n",
       "      console.log(\"Bokeh: injecting script tag for BokehJS library: \", url);\n",
       "      document.getElementsByTagName(\"head\")[0].appendChild(s);\n",
       "    }\n",
       "  };var element = document.getElementById(\"887a3518-c172-4388-baa2-13e911abf888\");\n",
       "  if (element == null) {\n",
       "    console.log(\"Bokeh: ERROR: autoload.js configured with elementid '887a3518-c172-4388-baa2-13e911abf888' but no matching script tag was found. \")\n",
       "    return false;\n",
       "  }\n",
       "\n",
       "  var js_urls = ['https://cdn.pydata.org/bokeh/release/bokeh-0.12.3.min.js', 'https://cdn.pydata.org/bokeh/release/bokeh-widgets-0.12.3.min.js'];\n",
       "\n",
       "  var inline_js = [\n",
       "    function(Bokeh) {\n",
       "      Bokeh.set_log_level(\"info\");\n",
       "    },\n",
       "    \n",
       "    function(Bokeh) {\n",
       "      \n",
       "      Bokeh.$(\"#887a3518-c172-4388-baa2-13e911abf888\").text(\"BokehJS is loading...\");\n",
       "    },\n",
       "    function(Bokeh) {\n",
       "      console.log(\"Bokeh: injecting CSS: https://cdn.pydata.org/bokeh/release/bokeh-0.12.3.min.css\");\n",
       "      Bokeh.embed.inject_css(\"https://cdn.pydata.org/bokeh/release/bokeh-0.12.3.min.css\");\n",
       "      console.log(\"Bokeh: injecting CSS: https://cdn.pydata.org/bokeh/release/bokeh-widgets-0.12.3.min.css\");\n",
       "      Bokeh.embed.inject_css(\"https://cdn.pydata.org/bokeh/release/bokeh-widgets-0.12.3.min.css\");\n",
       "    }\n",
       "  ];\n",
       "\n",
       "  function run_inline_js() {\n",
       "    \n",
       "    if ((window.Bokeh !== undefined) || (force === \"1\")) {\n",
       "      for (var i = 0; i < inline_js.length; i++) {\n",
       "        inline_js[i](window.Bokeh);\n",
       "      }if (force === \"1\") {\n",
       "        display_loaded();\n",
       "      }} else if (Date.now() < window._bokeh_timeout) {\n",
       "      setTimeout(run_inline_js, 100);\n",
       "    } else if (!window._bokeh_failed_load) {\n",
       "      console.log(\"Bokeh: BokehJS failed to load within specified timeout.\");\n",
       "      window._bokeh_failed_load = true;\n",
       "    } else if (!force) {\n",
       "      var cell = $(\"#887a3518-c172-4388-baa2-13e911abf888\").parents('.cell').data().cell;\n",
       "      cell.output_area.append_execute_result(NB_LOAD_WARNING)\n",
       "    }\n",
       "\n",
       "  }\n",
       "\n",
       "  if (window._bokeh_is_loading === 0) {\n",
       "    console.log(\"Bokeh: BokehJS loaded, going straight to plotting\");\n",
       "    run_inline_js();\n",
       "  } else {\n",
       "    load_libs(js_urls, function() {\n",
       "      console.log(\"Bokeh: BokehJS plotting callback run at\", now());\n",
       "      run_inline_js();\n",
       "    });\n",
       "  }\n",
       "}(this));"
      ]
     },
     "metadata": {},
     "output_type": "display_data"
    }
   ],
   "source": [
    "import numpy as np\n",
    "from bokeh.plotting import gridplot, figure, show\n",
    "from bokeh.io import output_notebook\n",
    "from bokeh.models import ColumnDataSource, CustomJS\n",
    "# Direct output to this notebook\n",
    "output_notebook()"
   ]
  },
  {
   "cell_type": "markdown",
   "metadata": {},
   "source": [
    "Generate some random data"
   ]
  },
  {
   "cell_type": "code",
   "execution_count": 25,
   "metadata": {
    "collapsed": true
   },
   "outputs": [],
   "source": [
    "n = 100\n",
    "x = np.random.random(size=n) * 100\n",
    "y = np.random.random(size=n) * 100\n",
    "source = ColumnDataSource(data=dict(x=x, y=y))"
   ]
  },
  {
   "cell_type": "markdown",
   "metadata": {},
   "source": [
    "Create another `ColumnDataSource` to store the selected data."
   ]
  },
  {
   "cell_type": "code",
   "execution_count": 26,
   "metadata": {
    "collapsed": false
   },
   "outputs": [],
   "source": [
    "selected = ColumnDataSource(data=dict(x=[], y=[]))"
   ]
  },
  {
   "cell_type": "markdown",
   "metadata": {},
   "source": [
    "Create the Bokeh plot and add tools for selecting data. The `lasso_select` tool is enabled by default. To make a multiple selection, press the SHIFT key. To clear the selection, press the ESC key. More information on the Bokeh tools is available [here](http://bokeh.pydata.org/en/latest/docs/user_guide/tools.html). Two plots are created to simulataneously plot the dataset in two different perspectives."
   ]
  },
  {
   "cell_type": "code",
   "execution_count": 42,
   "metadata": {
    "collapsed": false
   },
   "outputs": [],
   "source": [
    "figkwds = dict(plot_width=400, plot_height=300, webgl=True,\n",
    "           tools=\"pan,lasso_select,box_select,help\", \n",
    "           active_drag=\"lasso_select\")\n",
    "\n",
    "p1 = figure(**figkwds)\n",
    "p1.scatter('x', 'y', source=source, alpha=0.8)\n",
    "\n",
    "p2 = figure(**figkwds, \n",
    "            x_axis_type='log', x_range=[1, 100],\n",
    "            y_axis_type='log', y_range=[1, 100])\n",
    "p2.scatter('x', 'y', source=source, alpha=0.8)\n",
    "\n",
    "p3 = figure(**figkwds)\n",
    "p3.scatter('x', 'y', source=selected)\n",
    "layout = gridplot([[p1, p2, p3]])"
   ]
  },
  {
   "cell_type": "markdown",
   "metadata": {},
   "source": [
    "Use a Javascript callback to populate the `selected` data source as described the [callbacks documentation](http://bokeh.pydata.org/en/latest/docs/user_guide/interaction/callbacks.html#customjs-for-selections)."
   ]
  },
  {
   "cell_type": "code",
   "execution_count": 43,
   "metadata": {
    "collapsed": true
   },
   "outputs": [],
   "source": [
    "source.callback = CustomJS(args=dict(selected=selected), code=\"\"\"\n",
    "        var inds = cb_obj.selected['1d'].indices;\n",
    "        var d1 = cb_obj.data;\n",
    "        var d2 = selected.data;\n",
    "        \n",
    "        for (i = 0; i < inds.length; i++) {\n",
    "            d2['x'].push(d1['x'][inds[i]])\n",
    "            d2['y'].push(d1['y'][inds[i]])\n",
    "        }\n",
    "        selected.trigger('change');\n",
    "    \"\"\")"
   ]
  },
  {
   "cell_type": "code",
   "execution_count": 44,
   "metadata": {
    "collapsed": false
   },
   "outputs": [
    {
     "data": {
      "text/html": [
       "\n",
       "\n",
       "    <div class=\"bk-root\">\n",
       "        <div class=\"plotdiv\" id=\"761591bb-16e3-4f67-946f-15b085c1b491\"></div>\n",
       "    </div>\n",
       "<script type=\"text/javascript\">\n",
       "  \n",
       "  (function(global) {\n",
       "    function now() {\n",
       "      return new Date();\n",
       "    }\n",
       "  \n",
       "    var force = \"\";\n",
       "  \n",
       "    if (typeof (window._bokeh_onload_callbacks) === \"undefined\" || force !== \"\") {\n",
       "      window._bokeh_onload_callbacks = [];\n",
       "      window._bokeh_is_loading = undefined;\n",
       "    }\n",
       "  \n",
       "  \n",
       "    \n",
       "    if (typeof (window._bokeh_timeout) === \"undefined\" || force !== \"\") {\n",
       "      window._bokeh_timeout = Date.now() + 0;\n",
       "      window._bokeh_failed_load = false;\n",
       "    }\n",
       "  \n",
       "    var NB_LOAD_WARNING = {'data': {'text/html':\n",
       "       \"<div style='background-color: #fdd'>\\n\"+\n",
       "       \"<p>\\n\"+\n",
       "       \"BokehJS does not appear to have successfully loaded. If loading BokehJS from CDN, this \\n\"+\n",
       "       \"may be due to a slow or bad network connection. Possible fixes:\\n\"+\n",
       "       \"</p>\\n\"+\n",
       "       \"<ul>\\n\"+\n",
       "       \"<li>re-rerun `output_notebook()` to attempt to load from CDN again, or</li>\\n\"+\n",
       "       \"<li>use INLINE resources instead, as so:</li>\\n\"+\n",
       "       \"</ul>\\n\"+\n",
       "       \"<code>\\n\"+\n",
       "       \"from bokeh.resources import INLINE\\n\"+\n",
       "       \"output_notebook(resources=INLINE)\\n\"+\n",
       "       \"</code>\\n\"+\n",
       "       \"</div>\"}};\n",
       "  \n",
       "    function display_loaded() {\n",
       "      if (window.Bokeh !== undefined) {\n",
       "        Bokeh.$(\"#761591bb-16e3-4f67-946f-15b085c1b491\").text(\"BokehJS successfully loaded.\");\n",
       "      } else if (Date.now() < window._bokeh_timeout) {\n",
       "        setTimeout(display_loaded, 100)\n",
       "      }\n",
       "    }\n",
       "  \n",
       "    function run_callbacks() {\n",
       "      window._bokeh_onload_callbacks.forEach(function(callback) { callback() });\n",
       "      delete window._bokeh_onload_callbacks\n",
       "      console.info(\"Bokeh: all callbacks have finished\");\n",
       "    }\n",
       "  \n",
       "    function load_libs(js_urls, callback) {\n",
       "      window._bokeh_onload_callbacks.push(callback);\n",
       "      if (window._bokeh_is_loading > 0) {\n",
       "        console.log(\"Bokeh: BokehJS is being loaded, scheduling callback at\", now());\n",
       "        return null;\n",
       "      }\n",
       "      if (js_urls == null || js_urls.length === 0) {\n",
       "        run_callbacks();\n",
       "        return null;\n",
       "      }\n",
       "      console.log(\"Bokeh: BokehJS not loaded, scheduling load and callback at\", now());\n",
       "      window._bokeh_is_loading = js_urls.length;\n",
       "      for (var i = 0; i < js_urls.length; i++) {\n",
       "        var url = js_urls[i];\n",
       "        var s = document.createElement('script');\n",
       "        s.src = url;\n",
       "        s.async = false;\n",
       "        s.onreadystatechange = s.onload = function() {\n",
       "          window._bokeh_is_loading--;\n",
       "          if (window._bokeh_is_loading === 0) {\n",
       "            console.log(\"Bokeh: all BokehJS libraries loaded\");\n",
       "            run_callbacks()\n",
       "          }\n",
       "        };\n",
       "        s.onerror = function() {\n",
       "          console.warn(\"failed to load library \" + url);\n",
       "        };\n",
       "        console.log(\"Bokeh: injecting script tag for BokehJS library: \", url);\n",
       "        document.getElementsByTagName(\"head\")[0].appendChild(s);\n",
       "      }\n",
       "    };var element = document.getElementById(\"761591bb-16e3-4f67-946f-15b085c1b491\");\n",
       "    if (element == null) {\n",
       "      console.log(\"Bokeh: ERROR: autoload.js configured with elementid '761591bb-16e3-4f67-946f-15b085c1b491' but no matching script tag was found. \")\n",
       "      return false;\n",
       "    }\n",
       "  \n",
       "    var js_urls = [];\n",
       "  \n",
       "    var inline_js = [\n",
       "      function(Bokeh) {\n",
       "        Bokeh.$(function() {\n",
       "            var docs_json = {\"ccbcb805-1bf6-46e3-92ad-e358a30022c2\":{\"roots\":{\"references\":[{\"attributes\":{\"callback\":{\"id\":\"ce1a71a8-7416-46bc-b596-f14fbd010577\",\"type\":\"CustomJS\"},\"column_names\":[\"x\",\"y\"],\"data\":{\"x\":[58.8280818368839,21.749854705120953,38.155944255228746,93.93326892861697,74.20461168347515,56.22774706992993,99.05322507710802,29.20170300160826,36.16129415435431,68.34530324295805,18.15013128512717,73.15219213143753,72.80335487028964,81.10680339719259,95.57646349766054,79.60372638984333,50.02657489922152,97.44166082999661,74.91425858436023,36.934958968589285,9.336677680713146,34.578155142642785,94.13578134484932,34.019632044033735,42.26997440177534,67.19126768148467,40.590277366446905,19.43229996664957,60.43171145798381,48.07119068012483,46.09176844498882,56.61173578131595,93.68426707804318,59.22354937724735,17.49346966107881,9.919397546420129,14.438409368165939,37.14204531263523,98.82459367839846,37.61102280961796,64.32760894066696,35.48704531833694,40.27688801811106,55.286023181333654,42.99740880166665,70.225204199159,20.485159767485527,29.367520664629353,7.907761065202534,93.82090063284171,91.1840104350608,64.74684907161856,54.09968891734158,34.10955159114985,96.23305927840772,16.51831079286711,39.205913122929836,95.33414786616818,8.51549896913234,66.59984482439131,89.21585188615181,79.8524445518903,23.878905924213946,56.40719264674291,71.24900181365699,77.06931939163202,13.299257108804586,13.14745897657451,86.23267551533937,45.56791796031406,84.65081792561739,76.35186121788425,33.330578416454635,76.48962399652241,92.82432495251874,15.61416883530995,68.8328842151058,17.188969464021085,52.58414920146501,99.76193212088732,52.1506625447856,70.61423987012773,48.96838505646481,69.43387918481997,89.69215901111073,76.52557622628633,74.44014467145098,52.4931101924404,53.1890305034398,89.4755140921946,74.22808325477642,4.914629528414527,26.395489072739654,81.77700909782307,45.93034891460724,19.49420346883469,67.67311737923524,35.80020277627227,58.725615000037756,27.3517643012104],\"y\":[52.48052618718114,29.973669471568808,69.8454928301322,69.94314902645459,87.22637991398322,54.69050187466916,15.695373611201058,54.38892349262604,90.47455256622389,7.126204479125597,43.48667826358636,44.38606006266252,0.4661680950339586,27.27158490567544,10.096584564862122,57.38720520499479,29.523731665882657,87.39693881001112,92.7610919118302,15.322854908283112,61.595395506135795,54.07086696497373,36.927306605707464,99.31732634099075,37.55662264746835,29.048530405106398,66.88082094719668,36.95426402017483,17.848943606766067,77.35824963387017,35.82200139505996,72.79882686597094,76.14380200942993,37.366490381644425,7.3839509797822505,90.26595565180601,63.8503235844204,50.944479093291406,29.839202933253638,65.9454179962555,72.13792643975287,28.51528000650233,18.634054172172497,56.41736999673746,28.693903961195556,97.33709908998543,30.4337508433708,41.585641499856784,53.10038208323971,56.490741941334875,27.774962511803693,79.24773229831304,56.73065960012571,72.08397927511776,4.853324936850267,65.6833786211689,48.695821240791034,86.38791474484583,38.97668345115005,93.9798240265285,22.004725224155607,51.074937368768545,60.19463757731573,80.43429725891649,14.182254994402044,58.22590703361145,6.714723211976581,78.59239959785043,6.901311567099455,22.906506971338725,65.01746023365241,97.59185236542962,39.32918516699194,79.10314934443772,89.20072490347059,39.95617063795227,87.56282126414628,13.77268812428295,72.09493728057139,74.90180100865675,66.4943526366951,89.98911977817382,26.066699017209483,47.53538499104474,86.5502105080694,52.92091396568475,71.4519259080295,18.590816043340663,8.766771987034193,12.085943704000691,91.55322364893142,71.38858466769408,61.36016341269179,80.59031276374655,6.244196551772019,54.91575666455113,42.1153151579428,21.949789277731846,75.85983891629947,66.99474880369898]}},\"id\":\"54a4efbd-6d29-45b3-9505-5bffa7a6b85d\",\"type\":\"ColumnDataSource\"},{\"attributes\":{\"callback\":null,\"column_names\":[\"x\",\"y\"],\"data\":{\"x\":[],\"y\":[]}},\"id\":\"78658ce7-4a9e-4158-8cf8-9d87a86e6c76\",\"type\":\"ColumnDataSource\"},{\"attributes\":{},\"id\":\"28193b4b-d328-4d61-bf49-184f48d9bc1b\",\"type\":\"ToolEvents\"},{\"attributes\":{\"dimension\":1,\"plot\":{\"id\":\"411529b8-be10-47ad-a662-417e1e348ed4\",\"subtype\":\"Figure\",\"type\":\"Plot\"},\"ticker\":{\"id\":\"a871771e-1833-4566-892e-302e08f5e5a7\",\"type\":\"BasicTicker\"}},\"id\":\"5d925fdc-aaf1-4c2e-8def-d15056f9db1c\",\"type\":\"Grid\"},{\"attributes\":{\"below\":[{\"id\":\"d146bf24-f382-434a-9843-c0aeb27af30e\",\"type\":\"LogAxis\"}],\"left\":[{\"id\":\"88733015-bcd4-44f3-83a8-560acd3c9349\",\"type\":\"LogAxis\"}],\"plot_height\":300,\"plot_width\":400,\"renderers\":[{\"id\":\"d146bf24-f382-434a-9843-c0aeb27af30e\",\"type\":\"LogAxis\"},{\"id\":\"d494df1f-552d-4c2d-b3b8-c6f43f6e39ad\",\"type\":\"Grid\"},{\"id\":\"88733015-bcd4-44f3-83a8-560acd3c9349\",\"type\":\"LogAxis\"},{\"id\":\"31e2b6dc-6fcd-4034-88ee-001911cca31f\",\"type\":\"Grid\"},{\"id\":\"d5a048bb-9433-468f-a503-b8a27793b100\",\"type\":\"PolyAnnotation\"},{\"id\":\"1bce2820-aeab-4679-b9d8-207e1b7de5a6\",\"type\":\"BoxAnnotation\"},{\"id\":\"0aaa04f0-742b-479b-b441-10a9de0adb45\",\"type\":\"GlyphRenderer\"}],\"title\":{\"id\":\"b8522257-209b-4598-8d44-294a7b91b997\",\"type\":\"Title\"},\"tool_events\":{\"id\":\"28193b4b-d328-4d61-bf49-184f48d9bc1b\",\"type\":\"ToolEvents\"},\"toolbar\":{\"id\":\"fbdd87e2-9fb2-49a0-b520-261f7036cc0b\",\"type\":\"Toolbar\"},\"toolbar_location\":null,\"webgl\":true,\"x_mapper_type\":\"log\",\"x_range\":{\"id\":\"ff2140ad-15b0-4c55-86b5-2a9590a22272\",\"type\":\"Range1d\"},\"y_mapper_type\":\"log\",\"y_range\":{\"id\":\"a2bba93d-a8bc-405b-a71c-c6e5c6d1c890\",\"type\":\"Range1d\"}},\"id\":\"9fed322b-0936-4bd3-9e47-16d6073038a3\",\"subtype\":\"Figure\",\"type\":\"Plot\"},{\"attributes\":{\"bottom_units\":\"screen\",\"fill_alpha\":{\"value\":0.5},\"fill_color\":{\"value\":\"lightgrey\"},\"left_units\":\"screen\",\"level\":\"overlay\",\"line_alpha\":{\"value\":1.0},\"line_color\":{\"value\":\"black\"},\"line_dash\":[4,4],\"line_width\":{\"value\":2},\"plot\":null,\"render_mode\":\"css\",\"right_units\":\"screen\",\"top_units\":\"screen\"},\"id\":\"7a4063cb-28af-430c-83c4-c7226d543506\",\"type\":\"BoxAnnotation\"},{\"attributes\":{\"plot\":{\"id\":\"411529b8-be10-47ad-a662-417e1e348ed4\",\"subtype\":\"Figure\",\"type\":\"Plot\"}},\"id\":\"8082ae32-c7dd-4a14-bc76-3f1bc54b3416\",\"type\":\"PanTool\"},{\"attributes\":{},\"id\":\"64dbcde9-f0c8-4922-acbe-384fc87b52cd\",\"type\":\"BasicTickFormatter\"},{\"attributes\":{\"callback\":null,\"overlay\":{\"id\":\"63a4fffa-ca86-4eb7-aa01-70d04a31b1c8\",\"type\":\"PolyAnnotation\"},\"plot\":{\"id\":\"411529b8-be10-47ad-a662-417e1e348ed4\",\"subtype\":\"Figure\",\"type\":\"Plot\"}},\"id\":\"ce40943e-9d1a-48ab-b18c-223e9e25e007\",\"type\":\"LassoSelectTool\"},{\"attributes\":{\"callback\":null,\"overlay\":{\"id\":\"7a4063cb-28af-430c-83c4-c7226d543506\",\"type\":\"BoxAnnotation\"},\"plot\":{\"id\":\"411529b8-be10-47ad-a662-417e1e348ed4\",\"subtype\":\"Figure\",\"type\":\"Plot\"},\"renderers\":[{\"id\":\"44b764d2-2834-400f-a6e3-cadfa647df1f\",\"type\":\"GlyphRenderer\"}]},\"id\":\"37deb5ad-ff6a-4beb-b84e-3355cdf25653\",\"type\":\"BoxSelectTool\"},{\"attributes\":{\"plot\":{\"id\":\"411529b8-be10-47ad-a662-417e1e348ed4\",\"subtype\":\"Figure\",\"type\":\"Plot\"}},\"id\":\"38504c2d-e755-4e08-beaf-770bd6e359e7\",\"type\":\"HelpTool\"},{\"attributes\":{\"fill_alpha\":{\"value\":0.5},\"fill_color\":{\"value\":\"lightgrey\"},\"level\":\"overlay\",\"line_alpha\":{\"value\":1.0},\"line_color\":{\"value\":\"black\"},\"line_dash\":[4,4],\"line_width\":{\"value\":2},\"plot\":null,\"xs_units\":\"screen\",\"ys_units\":\"screen\"},\"id\":\"63a4fffa-ca86-4eb7-aa01-70d04a31b1c8\",\"type\":\"PolyAnnotation\"},{\"attributes\":{\"fill_alpha\":{\"value\":0.1},\"fill_color\":{\"value\":\"#1f77b4\"},\"line_alpha\":{\"value\":0.1},\"line_color\":{\"value\":\"#1f77b4\"},\"x\":{\"field\":\"x\"},\"y\":{\"field\":\"y\"}},\"id\":\"0199183c-53fb-4b63-98f4-e77d15345314\",\"type\":\"Circle\"},{\"attributes\":{},\"id\":\"bfcebdb6-241b-44ee-8432-882bacef074e\",\"type\":\"BasicTickFormatter\"},{\"attributes\":{\"data_source\":{\"id\":\"54a4efbd-6d29-45b3-9505-5bffa7a6b85d\",\"type\":\"ColumnDataSource\"},\"glyph\":{\"id\":\"4f9903e3-515d-4243-9bfa-f7e7ed9aa766\",\"type\":\"Circle\"},\"hover_glyph\":null,\"nonselection_glyph\":{\"id\":\"0199183c-53fb-4b63-98f4-e77d15345314\",\"type\":\"Circle\"},\"selection_glyph\":null},\"id\":\"44b764d2-2834-400f-a6e3-cadfa647df1f\",\"type\":\"GlyphRenderer\"},{\"attributes\":{\"plot\":null,\"text\":null},\"id\":\"b8522257-209b-4598-8d44-294a7b91b997\",\"type\":\"Title\"},{\"attributes\":{\"active_drag\":{\"id\":\"b3547314-dfc9-4f62-8b0b-fdf4c398059e\",\"type\":\"LassoSelectTool\"},\"active_scroll\":\"auto\",\"active_tap\":\"auto\",\"tools\":[{\"id\":\"bed30bc2-08c9-4008-a1f6-35c305187cc8\",\"type\":\"PanTool\"},{\"id\":\"b3547314-dfc9-4f62-8b0b-fdf4c398059e\",\"type\":\"LassoSelectTool\"},{\"id\":\"a19a499c-c59d-4695-be6f-4da81fcd2314\",\"type\":\"BoxSelectTool\"},{\"id\":\"0e148ffe-af4f-4081-b54a-4a90ded873a6\",\"type\":\"HelpTool\"}]},\"id\":\"fbdd87e2-9fb2-49a0-b520-261f7036cc0b\",\"type\":\"Toolbar\"},{\"attributes\":{\"fill_alpha\":{\"value\":0.8},\"fill_color\":{\"value\":\"#1f77b4\"},\"line_alpha\":{\"value\":0.8},\"line_color\":{\"value\":\"#1f77b4\"},\"x\":{\"field\":\"x\"},\"y\":{\"field\":\"y\"}},\"id\":\"6e52c2e4-1ca8-41a9-b763-01a5ee8c616a\",\"type\":\"Circle\"},{\"attributes\":{},\"id\":\"114c56f9-5917-4b70-b41d-980d06d15742\",\"type\":\"ToolEvents\"},{\"attributes\":{\"callback\":null,\"end\":100,\"start\":1},\"id\":\"ff2140ad-15b0-4c55-86b5-2a9590a22272\",\"type\":\"Range1d\"},{\"attributes\":{\"callback\":null,\"end\":100,\"start\":1},\"id\":\"a2bba93d-a8bc-405b-a71c-c6e5c6d1c890\",\"type\":\"Range1d\"},{\"attributes\":{\"formatter\":{\"id\":\"89f1157b-4373-4d7b-9aa1-f7a50006b7e2\",\"type\":\"LogTickFormatter\"},\"plot\":{\"id\":\"9fed322b-0936-4bd3-9e47-16d6073038a3\",\"subtype\":\"Figure\",\"type\":\"Plot\"},\"ticker\":{\"id\":\"f5437984-fa80-4421-9f09-bf28fc528daa\",\"type\":\"LogTicker\"}},\"id\":\"d146bf24-f382-434a-9843-c0aeb27af30e\",\"type\":\"LogAxis\"},{\"attributes\":{\"args\":{\"selected\":{\"id\":\"78658ce7-4a9e-4158-8cf8-9d87a86e6c76\",\"type\":\"ColumnDataSource\"}},\"code\":\"\\n        var inds = cb_obj.selected['1d'].indices;\\n        var d1 = cb_obj.data;\\n        var d2 = selected.data;\\n        for (i = 0; i < inds.length; i++) {\\n            d2['x'].push(d1['x'][inds[i]])\\n            d2['y'].push(d1['y'][inds[i]])\\n        }\\n        selected.trigger('change');\\n    \"},\"id\":\"ce1a71a8-7416-46bc-b596-f14fbd010577\",\"type\":\"CustomJS\"},{\"attributes\":{\"num_minor_ticks\":10},\"id\":\"f5437984-fa80-4421-9f09-bf28fc528daa\",\"type\":\"LogTicker\"},{\"attributes\":{\"plot\":{\"id\":\"9fed322b-0936-4bd3-9e47-16d6073038a3\",\"subtype\":\"Figure\",\"type\":\"Plot\"},\"ticker\":{\"id\":\"f5437984-fa80-4421-9f09-bf28fc528daa\",\"type\":\"LogTicker\"}},\"id\":\"d494df1f-552d-4c2d-b3b8-c6f43f6e39ad\",\"type\":\"Grid\"},{\"attributes\":{\"formatter\":{\"id\":\"28c7fce6-a964-4513-8c33-31e93d70d076\",\"type\":\"LogTickFormatter\"},\"plot\":{\"id\":\"9fed322b-0936-4bd3-9e47-16d6073038a3\",\"subtype\":\"Figure\",\"type\":\"Plot\"},\"ticker\":{\"id\":\"c0279786-c7be-4dc5-88c7-6005728e8db7\",\"type\":\"LogTicker\"}},\"id\":\"88733015-bcd4-44f3-83a8-560acd3c9349\",\"type\":\"LogAxis\"},{\"attributes\":{\"num_minor_ticks\":10},\"id\":\"c0279786-c7be-4dc5-88c7-6005728e8db7\",\"type\":\"LogTicker\"},{\"attributes\":{\"dimension\":1,\"plot\":{\"id\":\"9fed322b-0936-4bd3-9e47-16d6073038a3\",\"subtype\":\"Figure\",\"type\":\"Plot\"},\"ticker\":{\"id\":\"c0279786-c7be-4dc5-88c7-6005728e8db7\",\"type\":\"LogTicker\"}},\"id\":\"31e2b6dc-6fcd-4034-88ee-001911cca31f\",\"type\":\"Grid\"},{\"attributes\":{\"below\":[{\"id\":\"f2fb2e7f-edcb-44a4-a9ab-895ce0755fad\",\"type\":\"LinearAxis\"}],\"left\":[{\"id\":\"a63f90d5-3bb2-41a0-8bea-818ec02b4aee\",\"type\":\"LinearAxis\"}],\"plot_height\":300,\"plot_width\":400,\"renderers\":[{\"id\":\"f2fb2e7f-edcb-44a4-a9ab-895ce0755fad\",\"type\":\"LinearAxis\"},{\"id\":\"15f83025-5f56-4314-b067-cc2026377d2f\",\"type\":\"Grid\"},{\"id\":\"a63f90d5-3bb2-41a0-8bea-818ec02b4aee\",\"type\":\"LinearAxis\"},{\"id\":\"163226e8-d329-4724-b6de-779ecdf5c2f7\",\"type\":\"Grid\"},{\"id\":\"5001a31f-2914-41e1-b436-0eaafec5aae0\",\"type\":\"PolyAnnotation\"},{\"id\":\"79ae32b0-7c39-4321-9eb2-0c4ab5c20acc\",\"type\":\"BoxAnnotation\"},{\"id\":\"492f7782-767d-44a5-a91f-9cce51f550ef\",\"type\":\"GlyphRenderer\"}],\"title\":{\"id\":\"fc8944e6-310e-4f19-9b8f-0a15066db729\",\"type\":\"Title\"},\"tool_events\":{\"id\":\"114c56f9-5917-4b70-b41d-980d06d15742\",\"type\":\"ToolEvents\"},\"toolbar\":{\"id\":\"d3e94e8a-a4ef-460f-8a8c-813e028e38d1\",\"type\":\"Toolbar\"},\"toolbar_location\":null,\"webgl\":true,\"x_range\":{\"id\":\"83813f19-a772-44ba-8db9-6ea43b9974fb\",\"type\":\"DataRange1d\"},\"y_range\":{\"id\":\"1a763bce-6afe-4a97-b964-928cacc96731\",\"type\":\"DataRange1d\"}},\"id\":\"b84f3ff4-5735-4f37-868e-10a02b87c2cf\",\"subtype\":\"Figure\",\"type\":\"Plot\"},{\"attributes\":{\"bottom_units\":\"screen\",\"fill_alpha\":{\"value\":0.5},\"fill_color\":{\"value\":\"lightgrey\"},\"left_units\":\"screen\",\"level\":\"overlay\",\"line_alpha\":{\"value\":1.0},\"line_color\":{\"value\":\"black\"},\"line_dash\":[4,4],\"line_width\":{\"value\":2},\"plot\":null,\"render_mode\":\"css\",\"right_units\":\"screen\",\"top_units\":\"screen\"},\"id\":\"1bce2820-aeab-4679-b9d8-207e1b7de5a6\",\"type\":\"BoxAnnotation\"},{\"attributes\":{\"plot\":{\"id\":\"9fed322b-0936-4bd3-9e47-16d6073038a3\",\"subtype\":\"Figure\",\"type\":\"Plot\"}},\"id\":\"bed30bc2-08c9-4008-a1f6-35c305187cc8\",\"type\":\"PanTool\"},{\"attributes\":{\"ticker\":null},\"id\":\"89f1157b-4373-4d7b-9aa1-f7a50006b7e2\",\"type\":\"LogTickFormatter\"},{\"attributes\":{\"callback\":null,\"overlay\":{\"id\":\"d5a048bb-9433-468f-a503-b8a27793b100\",\"type\":\"PolyAnnotation\"},\"plot\":{\"id\":\"9fed322b-0936-4bd3-9e47-16d6073038a3\",\"subtype\":\"Figure\",\"type\":\"Plot\"}},\"id\":\"b3547314-dfc9-4f62-8b0b-fdf4c398059e\",\"type\":\"LassoSelectTool\"},{\"attributes\":{\"callback\":null,\"overlay\":{\"id\":\"1bce2820-aeab-4679-b9d8-207e1b7de5a6\",\"type\":\"BoxAnnotation\"},\"plot\":{\"id\":\"9fed322b-0936-4bd3-9e47-16d6073038a3\",\"subtype\":\"Figure\",\"type\":\"Plot\"},\"renderers\":[{\"id\":\"0aaa04f0-742b-479b-b441-10a9de0adb45\",\"type\":\"GlyphRenderer\"}]},\"id\":\"a19a499c-c59d-4695-be6f-4da81fcd2314\",\"type\":\"BoxSelectTool\"},{\"attributes\":{\"plot\":{\"id\":\"9fed322b-0936-4bd3-9e47-16d6073038a3\",\"subtype\":\"Figure\",\"type\":\"Plot\"}},\"id\":\"0e148ffe-af4f-4081-b54a-4a90ded873a6\",\"type\":\"HelpTool\"},{\"attributes\":{\"below\":[{\"id\":\"95db8969-cce5-4af2-831f-55319fb69363\",\"type\":\"LinearAxis\"}],\"left\":[{\"id\":\"56c20606-ad72-4568-ab7c-c0f8faebc5fd\",\"type\":\"LinearAxis\"}],\"plot_height\":300,\"plot_width\":400,\"renderers\":[{\"id\":\"95db8969-cce5-4af2-831f-55319fb69363\",\"type\":\"LinearAxis\"},{\"id\":\"27ae296d-ce0b-4895-bc69-0bcbda616a63\",\"type\":\"Grid\"},{\"id\":\"56c20606-ad72-4568-ab7c-c0f8faebc5fd\",\"type\":\"LinearAxis\"},{\"id\":\"5d925fdc-aaf1-4c2e-8def-d15056f9db1c\",\"type\":\"Grid\"},{\"id\":\"63a4fffa-ca86-4eb7-aa01-70d04a31b1c8\",\"type\":\"PolyAnnotation\"},{\"id\":\"7a4063cb-28af-430c-83c4-c7226d543506\",\"type\":\"BoxAnnotation\"},{\"id\":\"44b764d2-2834-400f-a6e3-cadfa647df1f\",\"type\":\"GlyphRenderer\"}],\"title\":{\"id\":\"d86f56b4-c9aa-47b6-95fb-7a30c67ac9d5\",\"type\":\"Title\"},\"tool_events\":{\"id\":\"8e58dcad-ef9d-4339-865d-d192e4a84876\",\"type\":\"ToolEvents\"},\"toolbar\":{\"id\":\"ff6cd20b-c4e2-4dd1-95af-e180867c23b9\",\"type\":\"Toolbar\"},\"toolbar_location\":null,\"webgl\":true,\"x_range\":{\"id\":\"354e990a-5014-4dc4-ab84-935a3c0553f2\",\"type\":\"DataRange1d\"},\"y_range\":{\"id\":\"6c7515e9-8673-4ebe-94d6-8b480e3e8f94\",\"type\":\"DataRange1d\"}},\"id\":\"411529b8-be10-47ad-a662-417e1e348ed4\",\"subtype\":\"Figure\",\"type\":\"Plot\"},{\"attributes\":{\"fill_alpha\":{\"value\":0.5},\"fill_color\":{\"value\":\"lightgrey\"},\"level\":\"overlay\",\"line_alpha\":{\"value\":1.0},\"line_color\":{\"value\":\"black\"},\"line_dash\":[4,4],\"line_width\":{\"value\":2},\"plot\":null,\"xs_units\":\"screen\",\"ys_units\":\"screen\"},\"id\":\"d5a048bb-9433-468f-a503-b8a27793b100\",\"type\":\"PolyAnnotation\"},{\"attributes\":{\"fill_alpha\":{\"value\":0.1},\"fill_color\":{\"value\":\"#1f77b4\"},\"line_alpha\":{\"value\":0.1},\"line_color\":{\"value\":\"#1f77b4\"},\"x\":{\"field\":\"x\"},\"y\":{\"field\":\"y\"}},\"id\":\"7f7c7754-e72b-4c8c-acdf-0dba1e7816c3\",\"type\":\"Circle\"},{\"attributes\":{\"ticker\":null},\"id\":\"28c7fce6-a964-4513-8c33-31e93d70d076\",\"type\":\"LogTickFormatter\"},{\"attributes\":{\"plot\":{\"id\":\"411529b8-be10-47ad-a662-417e1e348ed4\",\"subtype\":\"Figure\",\"type\":\"Plot\"},\"ticker\":{\"id\":\"75d9efa5-59e2-48aa-9b63-7c40fc714861\",\"type\":\"BasicTicker\"}},\"id\":\"27ae296d-ce0b-4895-bc69-0bcbda616a63\",\"type\":\"Grid\"},{\"attributes\":{\"data_source\":{\"id\":\"54a4efbd-6d29-45b3-9505-5bffa7a6b85d\",\"type\":\"ColumnDataSource\"},\"glyph\":{\"id\":\"6e52c2e4-1ca8-41a9-b763-01a5ee8c616a\",\"type\":\"Circle\"},\"hover_glyph\":null,\"nonselection_glyph\":{\"id\":\"7f7c7754-e72b-4c8c-acdf-0dba1e7816c3\",\"type\":\"Circle\"},\"selection_glyph\":null},\"id\":\"0aaa04f0-742b-479b-b441-10a9de0adb45\",\"type\":\"GlyphRenderer\"},{\"attributes\":{\"plot\":null,\"text\":null},\"id\":\"fc8944e6-310e-4f19-9b8f-0a15066db729\",\"type\":\"Title\"},{\"attributes\":{\"plot\":null,\"text\":null},\"id\":\"d86f56b4-c9aa-47b6-95fb-7a30c67ac9d5\",\"type\":\"Title\"},{\"attributes\":{\"active_drag\":{\"id\":\"04f1b4bc-7c47-4954-b9fc-a4a6c6756aef\",\"type\":\"LassoSelectTool\"},\"active_scroll\":\"auto\",\"active_tap\":\"auto\",\"tools\":[{\"id\":\"b2627516-a0f8-48d9-a9f0-6cbe2edf7811\",\"type\":\"PanTool\"},{\"id\":\"04f1b4bc-7c47-4954-b9fc-a4a6c6756aef\",\"type\":\"LassoSelectTool\"},{\"id\":\"14a62e14-a25a-425c-9ba8-38454499fb0b\",\"type\":\"BoxSelectTool\"},{\"id\":\"4508af6f-0b5d-4d59-b01d-4b9e4b005236\",\"type\":\"HelpTool\"}]},\"id\":\"d3e94e8a-a4ef-460f-8a8c-813e028e38d1\",\"type\":\"Toolbar\"},{\"attributes\":{\"fill_color\":{\"value\":\"#1f77b4\"},\"line_color\":{\"value\":\"#1f77b4\"},\"x\":{\"field\":\"x\"},\"y\":{\"field\":\"y\"}},\"id\":\"541ae61d-d93d-44ec-9cba-f5ecc781b9ac\",\"type\":\"Circle\"},{\"attributes\":{\"children\":[{\"id\":\"411529b8-be10-47ad-a662-417e1e348ed4\",\"subtype\":\"Figure\",\"type\":\"Plot\"},{\"id\":\"9fed322b-0936-4bd3-9e47-16d6073038a3\",\"subtype\":\"Figure\",\"type\":\"Plot\"},{\"id\":\"b84f3ff4-5735-4f37-868e-10a02b87c2cf\",\"subtype\":\"Figure\",\"type\":\"Plot\"}]},\"id\":\"c322cc1d-4e9d-4423-929e-05194b424bc5\",\"type\":\"Row\"},{\"attributes\":{\"callback\":null},\"id\":\"83813f19-a772-44ba-8db9-6ea43b9974fb\",\"type\":\"DataRange1d\"},{\"attributes\":{\"callback\":null},\"id\":\"1a763bce-6afe-4a97-b964-928cacc96731\",\"type\":\"DataRange1d\"},{\"attributes\":{\"formatter\":{\"id\":\"8f212483-0b28-4169-82d2-4b05566d144f\",\"type\":\"BasicTickFormatter\"},\"plot\":{\"id\":\"b84f3ff4-5735-4f37-868e-10a02b87c2cf\",\"subtype\":\"Figure\",\"type\":\"Plot\"},\"ticker\":{\"id\":\"96d8acda-ef44-49f7-bac6-4c9d45de88d0\",\"type\":\"BasicTicker\"}},\"id\":\"f2fb2e7f-edcb-44a4-a9ab-895ce0755fad\",\"type\":\"LinearAxis\"},{\"attributes\":{},\"id\":\"96d8acda-ef44-49f7-bac6-4c9d45de88d0\",\"type\":\"BasicTicker\"},{\"attributes\":{\"plot\":{\"id\":\"b84f3ff4-5735-4f37-868e-10a02b87c2cf\",\"subtype\":\"Figure\",\"type\":\"Plot\"},\"ticker\":{\"id\":\"96d8acda-ef44-49f7-bac6-4c9d45de88d0\",\"type\":\"BasicTicker\"}},\"id\":\"15f83025-5f56-4314-b067-cc2026377d2f\",\"type\":\"Grid\"},{\"attributes\":{\"formatter\":{\"id\":\"1e8da0e0-d95b-4e47-a678-fcfc99ed3549\",\"type\":\"BasicTickFormatter\"},\"plot\":{\"id\":\"b84f3ff4-5735-4f37-868e-10a02b87c2cf\",\"subtype\":\"Figure\",\"type\":\"Plot\"},\"ticker\":{\"id\":\"95efadc7-65cc-4307-b54c-48ca050f5580\",\"type\":\"BasicTicker\"}},\"id\":\"a63f90d5-3bb2-41a0-8bea-818ec02b4aee\",\"type\":\"LinearAxis\"},{\"attributes\":{},\"id\":\"75d9efa5-59e2-48aa-9b63-7c40fc714861\",\"type\":\"BasicTicker\"},{\"attributes\":{},\"id\":\"95efadc7-65cc-4307-b54c-48ca050f5580\",\"type\":\"BasicTicker\"},{\"attributes\":{\"dimension\":1,\"plot\":{\"id\":\"b84f3ff4-5735-4f37-868e-10a02b87c2cf\",\"subtype\":\"Figure\",\"type\":\"Plot\"},\"ticker\":{\"id\":\"95efadc7-65cc-4307-b54c-48ca050f5580\",\"type\":\"BasicTicker\"}},\"id\":\"163226e8-d329-4724-b6de-779ecdf5c2f7\",\"type\":\"Grid\"},{\"attributes\":{\"active_drag\":{\"id\":\"ce40943e-9d1a-48ab-b18c-223e9e25e007\",\"type\":\"LassoSelectTool\"},\"active_scroll\":\"auto\",\"active_tap\":\"auto\",\"tools\":[{\"id\":\"8082ae32-c7dd-4a14-bc76-3f1bc54b3416\",\"type\":\"PanTool\"},{\"id\":\"ce40943e-9d1a-48ab-b18c-223e9e25e007\",\"type\":\"LassoSelectTool\"},{\"id\":\"37deb5ad-ff6a-4beb-b84e-3355cdf25653\",\"type\":\"BoxSelectTool\"},{\"id\":\"38504c2d-e755-4e08-beaf-770bd6e359e7\",\"type\":\"HelpTool\"}]},\"id\":\"ff6cd20b-c4e2-4dd1-95af-e180867c23b9\",\"type\":\"Toolbar\"},{\"attributes\":{\"fill_alpha\":{\"value\":0.1},\"fill_color\":{\"value\":\"#1f77b4\"},\"line_alpha\":{\"value\":0.1},\"line_color\":{\"value\":\"#1f77b4\"},\"x\":{\"field\":\"x\"},\"y\":{\"field\":\"y\"}},\"id\":\"5adb847a-0ddd-4d32-8f9b-213b838a93c7\",\"type\":\"Circle\"},{\"attributes\":{\"bottom_units\":\"screen\",\"fill_alpha\":{\"value\":0.5},\"fill_color\":{\"value\":\"lightgrey\"},\"left_units\":\"screen\",\"level\":\"overlay\",\"line_alpha\":{\"value\":1.0},\"line_color\":{\"value\":\"black\"},\"line_dash\":[4,4],\"line_width\":{\"value\":2},\"plot\":null,\"render_mode\":\"css\",\"right_units\":\"screen\",\"top_units\":\"screen\"},\"id\":\"79ae32b0-7c39-4321-9eb2-0c4ab5c20acc\",\"type\":\"BoxAnnotation\"},{\"attributes\":{\"plot\":{\"id\":\"b84f3ff4-5735-4f37-868e-10a02b87c2cf\",\"subtype\":\"Figure\",\"type\":\"Plot\"}},\"id\":\"b2627516-a0f8-48d9-a9f0-6cbe2edf7811\",\"type\":\"PanTool\"},{\"attributes\":{\"callback\":null},\"id\":\"6c7515e9-8673-4ebe-94d6-8b480e3e8f94\",\"type\":\"DataRange1d\"},{\"attributes\":{},\"id\":\"8f212483-0b28-4169-82d2-4b05566d144f\",\"type\":\"BasicTickFormatter\"},{\"attributes\":{\"callback\":null,\"overlay\":{\"id\":\"5001a31f-2914-41e1-b436-0eaafec5aae0\",\"type\":\"PolyAnnotation\"},\"plot\":{\"id\":\"b84f3ff4-5735-4f37-868e-10a02b87c2cf\",\"subtype\":\"Figure\",\"type\":\"Plot\"}},\"id\":\"04f1b4bc-7c47-4954-b9fc-a4a6c6756aef\",\"type\":\"LassoSelectTool\"},{\"attributes\":{\"callback\":null,\"overlay\":{\"id\":\"79ae32b0-7c39-4321-9eb2-0c4ab5c20acc\",\"type\":\"BoxAnnotation\"},\"plot\":{\"id\":\"b84f3ff4-5735-4f37-868e-10a02b87c2cf\",\"subtype\":\"Figure\",\"type\":\"Plot\"},\"renderers\":[{\"id\":\"492f7782-767d-44a5-a91f-9cce51f550ef\",\"type\":\"GlyphRenderer\"}]},\"id\":\"14a62e14-a25a-425c-9ba8-38454499fb0b\",\"type\":\"BoxSelectTool\"},{\"attributes\":{\"plot\":{\"id\":\"b84f3ff4-5735-4f37-868e-10a02b87c2cf\",\"subtype\":\"Figure\",\"type\":\"Plot\"}},\"id\":\"4508af6f-0b5d-4d59-b01d-4b9e4b005236\",\"type\":\"HelpTool\"},{\"attributes\":{},\"id\":\"a871771e-1833-4566-892e-302e08f5e5a7\",\"type\":\"BasicTicker\"},{\"attributes\":{\"fill_alpha\":{\"value\":0.5},\"fill_color\":{\"value\":\"lightgrey\"},\"level\":\"overlay\",\"line_alpha\":{\"value\":1.0},\"line_color\":{\"value\":\"black\"},\"line_dash\":[4,4],\"line_width\":{\"value\":2},\"plot\":null,\"xs_units\":\"screen\",\"ys_units\":\"screen\"},\"id\":\"5001a31f-2914-41e1-b436-0eaafec5aae0\",\"type\":\"PolyAnnotation\"},{\"attributes\":{\"children\":[{\"id\":\"c322cc1d-4e9d-4423-929e-05194b424bc5\",\"type\":\"Row\"}]},\"id\":\"4b970a01-c704-45b2-8bf8-aa14810a42a6\",\"type\":\"Column\"},{\"attributes\":{},\"id\":\"1e8da0e0-d95b-4e47-a678-fcfc99ed3549\",\"type\":\"BasicTickFormatter\"},{\"attributes\":{\"data_source\":{\"id\":\"78658ce7-4a9e-4158-8cf8-9d87a86e6c76\",\"type\":\"ColumnDataSource\"},\"glyph\":{\"id\":\"541ae61d-d93d-44ec-9cba-f5ecc781b9ac\",\"type\":\"Circle\"},\"hover_glyph\":null,\"nonselection_glyph\":{\"id\":\"5adb847a-0ddd-4d32-8f9b-213b838a93c7\",\"type\":\"Circle\"},\"selection_glyph\":null},\"id\":\"492f7782-767d-44a5-a91f-9cce51f550ef\",\"type\":\"GlyphRenderer\"},{\"attributes\":{\"sizing_mode\":\"scale_width\",\"toolbar_location\":\"above\",\"tools\":[{\"id\":\"8082ae32-c7dd-4a14-bc76-3f1bc54b3416\",\"type\":\"PanTool\"},{\"id\":\"ce40943e-9d1a-48ab-b18c-223e9e25e007\",\"type\":\"LassoSelectTool\"},{\"id\":\"37deb5ad-ff6a-4beb-b84e-3355cdf25653\",\"type\":\"BoxSelectTool\"},{\"id\":\"38504c2d-e755-4e08-beaf-770bd6e359e7\",\"type\":\"HelpTool\"},{\"id\":\"bed30bc2-08c9-4008-a1f6-35c305187cc8\",\"type\":\"PanTool\"},{\"id\":\"b3547314-dfc9-4f62-8b0b-fdf4c398059e\",\"type\":\"LassoSelectTool\"},{\"id\":\"a19a499c-c59d-4695-be6f-4da81fcd2314\",\"type\":\"BoxSelectTool\"},{\"id\":\"0e148ffe-af4f-4081-b54a-4a90ded873a6\",\"type\":\"HelpTool\"},{\"id\":\"b2627516-a0f8-48d9-a9f0-6cbe2edf7811\",\"type\":\"PanTool\"},{\"id\":\"04f1b4bc-7c47-4954-b9fc-a4a6c6756aef\",\"type\":\"LassoSelectTool\"},{\"id\":\"14a62e14-a25a-425c-9ba8-38454499fb0b\",\"type\":\"BoxSelectTool\"},{\"id\":\"4508af6f-0b5d-4d59-b01d-4b9e4b005236\",\"type\":\"HelpTool\"}]},\"id\":\"240ee098-bbf3-4c65-b656-63e932cc4163\",\"type\":\"ToolbarBox\"},{\"attributes\":{\"fill_alpha\":{\"value\":0.8},\"fill_color\":{\"value\":\"#1f77b4\"},\"line_alpha\":{\"value\":0.8},\"line_color\":{\"value\":\"#1f77b4\"},\"x\":{\"field\":\"x\"},\"y\":{\"field\":\"y\"}},\"id\":\"4f9903e3-515d-4243-9bfa-f7e7ed9aa766\",\"type\":\"Circle\"},{\"attributes\":{\"children\":[{\"id\":\"240ee098-bbf3-4c65-b656-63e932cc4163\",\"type\":\"ToolbarBox\"},{\"id\":\"4b970a01-c704-45b2-8bf8-aa14810a42a6\",\"type\":\"Column\"}]},\"id\":\"f6784f29-048b-4836-b572-b416d7bba786\",\"type\":\"Column\"},{\"attributes\":{\"formatter\":{\"id\":\"64dbcde9-f0c8-4922-acbe-384fc87b52cd\",\"type\":\"BasicTickFormatter\"},\"plot\":{\"id\":\"411529b8-be10-47ad-a662-417e1e348ed4\",\"subtype\":\"Figure\",\"type\":\"Plot\"},\"ticker\":{\"id\":\"75d9efa5-59e2-48aa-9b63-7c40fc714861\",\"type\":\"BasicTicker\"}},\"id\":\"95db8969-cce5-4af2-831f-55319fb69363\",\"type\":\"LinearAxis\"},{\"attributes\":{},\"id\":\"8e58dcad-ef9d-4339-865d-d192e4a84876\",\"type\":\"ToolEvents\"},{\"attributes\":{\"callback\":null},\"id\":\"354e990a-5014-4dc4-ab84-935a3c0553f2\",\"type\":\"DataRange1d\"},{\"attributes\":{\"formatter\":{\"id\":\"bfcebdb6-241b-44ee-8432-882bacef074e\",\"type\":\"BasicTickFormatter\"},\"plot\":{\"id\":\"411529b8-be10-47ad-a662-417e1e348ed4\",\"subtype\":\"Figure\",\"type\":\"Plot\"},\"ticker\":{\"id\":\"a871771e-1833-4566-892e-302e08f5e5a7\",\"type\":\"BasicTicker\"}},\"id\":\"56c20606-ad72-4568-ab7c-c0f8faebc5fd\",\"type\":\"LinearAxis\"}],\"root_ids\":[\"f6784f29-048b-4836-b572-b416d7bba786\"]},\"title\":\"Bokeh Application\",\"version\":\"0.12.3\"}};\n",
       "            var render_items = [{\"docid\":\"ccbcb805-1bf6-46e3-92ad-e358a30022c2\",\"elementid\":\"761591bb-16e3-4f67-946f-15b085c1b491\",\"modelid\":\"f6784f29-048b-4836-b572-b416d7bba786\"}];\n",
       "            \n",
       "            Bokeh.embed.embed_items(docs_json, render_items);\n",
       "        });\n",
       "      },\n",
       "      function(Bokeh) {\n",
       "      }\n",
       "    ];\n",
       "  \n",
       "    function run_inline_js() {\n",
       "      \n",
       "      if ((window.Bokeh !== undefined) || (force === \"1\")) {\n",
       "        for (var i = 0; i < inline_js.length; i++) {\n",
       "          inline_js[i](window.Bokeh);\n",
       "        }if (force === \"1\") {\n",
       "          display_loaded();\n",
       "        }} else if (Date.now() < window._bokeh_timeout) {\n",
       "        setTimeout(run_inline_js, 100);\n",
       "      } else if (!window._bokeh_failed_load) {\n",
       "        console.log(\"Bokeh: BokehJS failed to load within specified timeout.\");\n",
       "        window._bokeh_failed_load = true;\n",
       "      } else if (!force) {\n",
       "        var cell = $(\"#761591bb-16e3-4f67-946f-15b085c1b491\").parents('.cell').data().cell;\n",
       "        cell.output_area.append_execute_result(NB_LOAD_WARNING)\n",
       "      }\n",
       "  \n",
       "    }\n",
       "  \n",
       "    if (window._bokeh_is_loading === 0) {\n",
       "      console.log(\"Bokeh: BokehJS loaded, going straight to plotting\");\n",
       "      run_inline_js();\n",
       "    } else {\n",
       "      load_libs(js_urls, function() {\n",
       "        console.log(\"Bokeh: BokehJS plotting callback run at\", now());\n",
       "        run_inline_js();\n",
       "      });\n",
       "    }\n",
       "  }(this));\n",
       "</script>"
      ]
     },
     "metadata": {},
     "output_type": "display_data"
    }
   ],
   "source": [
    "show(layout)"
   ]
  },
  {
   "cell_type": "markdown",
   "metadata": {},
   "source": [
    "Plot the selected data."
   ]
  },
  {
   "cell_type": "code",
   "execution_count": 52,
   "metadata": {
    "collapsed": false
   },
   "outputs": [
    {
     "data": {
      "text/plain": [
       "{'x': [], 'y': []}"
      ]
     },
     "execution_count": 52,
     "metadata": {},
     "output_type": "execute_result"
    }
   ],
   "source": [
    "selected.data"
   ]
  },
  {
   "cell_type": "code",
   "execution_count": null,
   "metadata": {
    "collapsed": true
   },
   "outputs": [],
   "source": []
  }
 ],
 "metadata": {
  "kernelspec": {
   "display_name": "Python 3",
   "language": "python",
   "name": "python3"
  },
  "language_info": {
   "codemirror_mode": {
    "name": "ipython",
    "version": 3
   },
   "file_extension": ".py",
   "mimetype": "text/x-python",
   "name": "python",
   "nbconvert_exporter": "python",
   "pygments_lexer": "ipython3",
   "version": "3.6.0"
  }
 },
 "nbformat": 4,
 "nbformat_minor": 2
}
